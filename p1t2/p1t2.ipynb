{
 "cells": [
  {
   "cell_type": "code",
   "execution_count": 1,
   "metadata": {},
   "outputs": [],
   "source": [
    "from pyspark.sql import SparkSession, Row\n",
    "import pyspark.sql.functions as pyf\n",
    "import re\n",
    "\n",
    "spark = SparkSession.builder.getOrCreate()\n",
    "df = spark.read.format('xml').options(rowTag='page').load('hdfs:/enwiki_small.xml')\n",
    "info = df.select('title', 'revision.text._VALUE')"
   ]
  },
  {
   "cell_type": "code",
   "execution_count": 2,
   "metadata": {},
   "outputs": [
    {
     "data": {
      "text/plain": [
       "<function __main__.take_lower>"
      ]
     },
     "execution_count": 2,
     "metadata": {},
     "output_type": "execute_result"
    }
   ],
   "source": [
    "# Define UDFs\n",
    "def select_links(l):\n",
    "    new_links = []\n",
    "    for link in l:\n",
    "        if '|' in link:\n",
    "            link = link.split('|')[0]\n",
    "        if '#' not in link:\n",
    "            if link.startswith(u'Category:') or (':' not in link):\n",
    "                new_links.append(link)\n",
    "    if len(new_links) == 0:\n",
    "        return None\n",
    "    return new_links\n",
    "\n",
    "spark.udf.register(\"select_links\", select_links)\n",
    "\n",
    "\n",
    "def take_lower(l):\n",
    "    if l == None:\n",
    "        return l\n",
    "    else:\n",
    "        return l.lower()\n",
    "\n",
    "spark.udf.register(\"take_lower\", take_lower)"
   ]
  },
  {
   "cell_type": "code",
   "execution_count": 3,
   "metadata": {},
   "outputs": [],
   "source": [
    "# Convert string to lowercase\n",
    "both_lower = info.rdd.map(lambda x: Row(**{'title': take_lower(x['title']), '_VALUE': take_lower(x['_VALUE'])}))\n",
    "# Remove None\n",
    "filter_out_none = both_lower.filter(lambda x: x['title'] != None and x['_VALUE'] != None)\n",
    "# Find all links inside '[[]]'\n",
    "step1 = filter_out_none.map(lambda x: Row(**{'title': x['title'], '_VALUE': re.findall(\"\\[\\[(.*?)\\]\\]\", x['_VALUE'])}))\n",
    "# Get the links that meeting the requirments\n",
    "step2 = step1.map(lambda x: Row(**{'title': x['title'], '_VALUE': select_links(x['_VALUE'])}))\n",
    "# Convert RDD to Dataframe\n",
    "df_2 = step2.toDF()\n",
    "# Explode the Dataframe\n",
    "result = df_2.select(df_2.title, pyf.explode(df_2._VALUE))\n",
    "# Order the Dataframe by 'title' and 'col' in ascending order\n",
    "sorted_result = result.orderBy(['title', 'col'], ascending = True)"
   ]
  },
  {
   "cell_type": "code",
   "execution_count": 4,
   "metadata": {},
   "outputs": [],
   "source": [
    "# When the input is enwiki_small.xml, output the first 5 rows of the result.\n",
    "# final_output = spark.createDataFrame(sorted_result.take(5))\n",
    "# final_output.repartition(1).write.format('com.databricks.spark.csv').option(\"delimiter\", '\\t').save('hdfs:/p1t2.csv', header = 'true')"
   ]
  },
  {
   "cell_type": "code",
   "execution_count": 6,
   "metadata": {},
   "outputs": [],
   "source": [
    "# When the input is enwiki_test.xml or enwiki_whole.xml, output the whole result.\n",
    "sorted_result.repartition(1).write.format('com.databricks.spark.csv').option(\"delimiter\", '\\t').save('hdfs:/p1t2.csv', header = 'true')"
   ]
  }
 ],
 "metadata": {
  "kernelspec": {
   "display_name": "PySpark",
   "language": "python",
   "name": "pyspark"
  },
  "language_info": {
   "codemirror_mode": {
    "name": "ipython",
    "version": 2
   },
   "file_extension": ".py",
   "mimetype": "text/x-python",
   "name": "python",
   "nbconvert_exporter": "python",
   "pygments_lexer": "ipython2",
   "version": "2.7.14"
  }
 },
 "nbformat": 4,
 "nbformat_minor": 2
}