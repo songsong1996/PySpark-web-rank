{
 "cells": [
  {
   "cell_type": "code",
   "execution_count": null,
   "metadata": {},
   "outputs": [],
   "source": [
    "from pyspark.sql import SparkSession\n",
    "from pyspark import SparkContext\n",
    "from pyspark.streaming import StreamingContext"
   ]
  },
  {
   "cell_type": "code",
   "execution_count": null,
   "metadata": {},
   "outputs": [],
   "source": [
    "# build a spark \n",
    "spct = SparkContext.getOrCreate()\n",
    "# build a spark session\n",
    "spark_sec = SparkSession(spct)\n",
    "# build a spark stream to get context\n",
    "stmct = StreamingContext(spct, 1)\n",
    "# build a file stream that emmite files\n",
    "whole_file = stmct.textFileStream('hdfs:/p2t1.csv')"
   ]
  },
  {
   "cell_type": "code",
   "execution_count": null,
   "metadata": {},
   "outputs": [],
   "source": [
    "# map rank to what we need\n",
    "whole_file = stmct.textFileStream('hdfs:/p2t1.csv')\n",
    "# map file to content that we want \n",
    "rank_select = whole_file.map(lambda row: row.split('\\t')[1])\n",
    "## build a function for rank_select that select rank>0.5\n",
    "rank_select1 = rank_select.filter(lambda r:float(r)>0.5)\n",
    "counts = rank_select1.count()\n",
    "counts.pprint()\n",
    "stmct.start()             \n",
    "stmct.awaitTermination()"
   ]
  }
 ],
 "metadata": {
  "language_info": {
   "codemirror_mode": {
    "name": "ipython",
    "version": 3
   },
   "file_extension": ".py",
   "mimetype": "text/x-python",
   "name": "python",
   "nbconvert_exporter": "python",
   "pygments_lexer": "ipython3",
   "version": 3
  },
  "orig_nbformat": 2
 },
 "nbformat": 4,
 "nbformat_minor": 2
}