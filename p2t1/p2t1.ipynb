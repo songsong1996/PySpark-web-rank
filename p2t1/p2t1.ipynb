{
 "cells": [
  {
   "cell_type": "code",
   "execution_count": null,
   "metadata": {},
   "outputs": [],
   "source": [
    "\n",
    "from pyspark.sql.functions import *\n",
    "from pyspark.sql import SparkSession\n",
    "from pyspark.sql.types import StructType"
   ]
  },
  {
   "cell_type": "code",
   "execution_count": null,
   "metadata": {},
   "outputs": [],
   "source": [
    "\n",
    "\n",
    "## run a spark session to load file\n",
    "spark = SparkSession.builder.getOrCreate()\n",
    "Schema = StructType().add(\"A\", \"string\").add(\"rank\", \"double\")\n",
    "rank_df = spark.readStream.format('csv').option(\"delimiter\",'\\t').schema(Schema).load('hdfs:/p2t1.csv',header='true')"
   ]
  },
  {
   "cell_type": "code",
   "execution_count": null,
   "metadata": {},
   "outputs": [],
   "source": [
    "# select rank>0.5 and output it as a csv file\n",
    "output = rank_df.select(['A','rank']).where('rank>0.5')\n",
    "query = output.coalesce(1).writeStream.format('csv').option(\"checkpointLocation\", \"hdfs:/\").option(\"path\",'gs://assignment2_p2/p2t1_whole.csv').start()"
   ]
  },
  {
   "cell_type": "code",
   "execution_count": null,
   "metadata": {},
   "outputs": [],
   "source": [
    "spark.streams.active\n",
    "query.awaitTermination()"
   ]
  },
  {
   "cell_type": "code",
   "execution_count": null,
   "metadata": {},
   "outputs": [],
   "source": [
    "query.stop()"
   ]
  },
  {
   "cell_type": "code",
   "execution_count": null,
   "metadata": {},
   "outputs": [],
   "source": [
    "# start another spark session to read file and count\n",
    "spark2 = SparkSession.builder.getOrCreate()\n",
    "rank_larger = spark2.read.format('csv').load('gs://assignment2_p2/p2t1_whole.csv')"
   ]
  },
  {
   "cell_type": "code",
   "execution_count": null,
   "metadata": {},
   "outputs": [],
   "source": [
    "print(rank_larger.count())"
   ]
  }
 ],
 "metadata": {
  "language_info": {
   "codemirror_mode": {
    "name": "ipython",
    "version": 3
   },
   "file_extension": ".py",
   "mimetype": "text/x-python",
   "name": "python",
   "nbconvert_exporter": "python",
   "pygments_lexer": "ipython3",
   "version": 3
  },
  "orig_nbformat": 2
 },
 "nbformat": 4,
 "nbformat_minor": 2
}